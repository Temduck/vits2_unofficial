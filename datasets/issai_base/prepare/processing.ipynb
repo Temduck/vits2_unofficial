{
 "cells": [
  {
   "cell_type": "code",
   "execution_count": 1,
   "metadata": {},
   "outputs": [],
   "source": [
    "import io\n",
    "import os \n",
    "import librosa\n",
    "import soundfile as sf\n",
    "import numpy as np\n",
    "import pandas as pd\n",
    "from tqdm import tqdm\n",
    "import json\n",
    "tqdm.pandas()\n",
    "\n",
    "def write_records_to_json(records, filename):\n",
    "  \"\"\"\n",
    "  Writes a dictionary of records to a JSON file.\n",
    "\n",
    "  Args:\n",
    "    records: A dictionary where keys are speaker IDs and values are file paths.\n",
    "    filename: The name of the JSON file to write to.\n",
    "  \"\"\"\n",
    "\n",
    "  with open(filename, 'w') as f:\n",
    "    json.dump(records, f)\n",
    "\n",
    "def read_records_from_json(filename):\n",
    "  \"\"\"\n",
    "  Reads a dictionary of records from a JSON file.\n",
    "\n",
    "  Args:\n",
    "    filename: The name of the JSON file to read from.\n",
    "\n",
    "  Returns:\n",
    "    A dictionary of records.\n",
    "  \"\"\"\n",
    "\n",
    "  with open(filename, 'r') as f:\n",
    "    return json.load(f)\n",
    "\n",
    "def increase_volume(input_file, output_file, gain_factor=2, sr=22050):\n",
    "    \"\"\"\n",
    "    Increase the volume of an audio file.\n",
    "\n",
    "    Parameters:\n",
    "    input_file (str): Path to the input audio file.\n",
    "    output_file (str): Path to save the output louder audio file.\n",
    "    gain_factor (float): Factor by which to increase the volume. Default is 1.5.\n",
    "    sr (int): Sample rate for loading the audio file. Default is 22050.\n",
    "    \"\"\"\n",
    "    # Load the speech file with the default sample rate\n",
    "    y, _ = librosa.load(input_file, sr=sr)\n",
    "\n",
    "    # Increase the volume\n",
    "    y_louder = y * gain_factor\n",
    "\n",
    "    # Ensure no values exceed the maximum amplitude to avoid clipping\n",
    "    y_louder = np.clip(y_louder, -1.0, 1.0)\n",
    "\n",
    "    # Create parent directories for the output file if they don't exist\n",
    "    os.makedirs(os.path.dirname(output_file), exist_ok=True)\n",
    "\n",
    "    # Save the louder audio\n",
    "    sf.write(output_file, y_louder, sr)\n",
    "\n",
    "speaker_metadata = read_records_from_json(\"metadata/speaker_metadata.json\")\n",
    "\n",
    "speakers_datasets = {}\n",
    "for speaker_id, speaker_path in speaker_metadata.items():\n",
    "    speakers_datasets[speaker_id] = pd.read_csv(speaker_path, index_col=0)\n",
    "\n",
    "stat_df = {}\n",
    "for speaker_id in speaker_metadata.keys():\n",
    "    stat_df[speaker_id] = speakers_datasets[speaker_id].head()"
   ]
  },
  {
   "cell_type": "code",
   "execution_count": 10,
   "metadata": {},
   "outputs": [
    {
     "name": "stderr",
     "output_type": "stream",
     "text": [
      "100%|██████████| 17426/17426 [29:08<00:00,  9.97it/s]\n",
      "100%|██████████| 12921/12921 [18:15<00:00, 11.80it/s]\n",
      "100%|██████████| 23696/23696 [31:41<00:00, 12.46it/s]\n",
      "100%|██████████| 49250/49250 [1:05:40<00:00, 12.50it/s]\n",
      "100%|██████████| 32903/32903 [41:33<00:00, 13.20it/s] \n"
     ]
    }
   ],
   "source": [
    "for speaker_id in speaker_metadata.keys():\n",
    "    speakers_datasets[speaker_id][\"audio_filepath\"].progress_apply(lambda x: increase_volume(x, \"processed/{}\".format(x)))"
   ]
  },
  {
   "cell_type": "code",
   "execution_count": 20,
   "metadata": {},
   "outputs": [
    {
     "name": "stderr",
     "output_type": "stream",
     "text": [
      "100%|██████████| 17426/17426 [00:42<00:00, 407.49it/s]\n"
     ]
    },
    {
     "name": "stdout",
     "output_type": "stream",
     "text": [
      "1742617426\n"
     ]
    },
    {
     "name": "stderr",
     "output_type": "stream",
     "text": [
      "100%|██████████| 12921/12921 [00:29<00:00, 430.90it/s]\n"
     ]
    },
    {
     "name": "stdout",
     "output_type": "stream",
     "text": [
      "1292112921\n"
     ]
    },
    {
     "name": "stderr",
     "output_type": "stream",
     "text": [
      "100%|██████████| 23696/23696 [00:53<00:00, 443.49it/s]\n"
     ]
    },
    {
     "name": "stdout",
     "output_type": "stream",
     "text": [
      "2369623696\n"
     ]
    },
    {
     "name": "stderr",
     "output_type": "stream",
     "text": [
      "100%|██████████| 49250/49250 [02:32<00:00, 323.34it/s]\n"
     ]
    },
    {
     "name": "stdout",
     "output_type": "stream",
     "text": [
      "4925049250\n"
     ]
    },
    {
     "name": "stderr",
     "output_type": "stream",
     "text": [
      "100%|██████████| 32903/32903 [01:17<00:00, 425.54it/s]"
     ]
    },
    {
     "name": "stdout",
     "output_type": "stream",
     "text": [
      "3290332903\n"
     ]
    },
    {
     "name": "stderr",
     "output_type": "stream",
     "text": [
      "\n"
     ]
    }
   ],
   "source": [
    "for speaker_id in speaker_metadata.keys():\n",
    "    audio_filepath = \"processed/\" + speakers_datasets[speaker_id][\"audio_filepath\"]\n",
    "    count_e = audio_filepath.progress_apply(lambda x: os.path.exists(x)).sum()\n",
    "    print(\"{}{}\".format(audio_filepath.shape[0], count_e))"
   ]
  },
  {
   "cell_type": "code",
   "execution_count": 25,
   "metadata": {},
   "outputs": [
    {
     "name": "stderr",
     "output_type": "stream",
     "text": [
      "100%|██████████| 17426/17426 [00:00<00:00, 40689.82it/s]\n",
      "100%|██████████| 12921/12921 [00:00<00:00, 40149.26it/s]\n",
      "100%|██████████| 23696/23696 [00:00<00:00, 38922.89it/s]\n",
      "100%|██████████| 49250/49250 [00:10<00:00, 4842.38it/s] \n",
      "100%|██████████| 32903/32903 [00:27<00:00, 1203.54it/s]\n"
     ]
    }
   ],
   "source": [
    "def read_text(filepath):\n",
    "    with open(filepath, \"r\") as file:\n",
    "        return file.read()\n",
    "    \n",
    "\n",
    "for speaker_id in speaker_metadata.keys():\n",
    "    texts = speakers_datasets[speaker_id][\"txt_filepath\"].progress_apply(lambda x: read_text(x))\n",
    "    speakers_datasets[speaker_id][\"texts\"] = texts"
   ]
  },
  {
   "cell_type": "code",
   "execution_count": 28,
   "metadata": {},
   "outputs": [],
   "source": [
    "for speaker_id in speaker_metadata.keys():\n",
    "    del speakers_datasets[speaker_id][\"txt_filepath\"]\n",
    "    del speakers_datasets[speaker_id][\"missing\"]"
   ]
  },
  {
   "cell_type": "code",
   "execution_count": 33,
   "metadata": {},
   "outputs": [],
   "source": [
    "for speaker_id in speaker_metadata.keys():\n",
    "    filename = \"metadata/{}_manifest.csv\".format(speaker_id)\n",
    "    speakers_datasets[speaker_id].to_csv(filename, index=False)"
   ]
  },
  {
   "cell_type": "code",
   "execution_count": 34,
   "metadata": {},
   "outputs": [],
   "source": [
    "for speaker_id in speaker_metadata.keys():\n",
    "    filename = \"metadata/{}_manifest.csv\".format(speaker_id)\n",
    "    speaker_metadata[speaker_id] = filename"
   ]
  },
  {
   "cell_type": "markdown",
   "metadata": {},
   "source": []
  },
  {
   "cell_type": "code",
   "execution_count": 15,
   "metadata": {},
   "outputs": [
    {
     "data": {
      "text/plain": [
       "32903"
      ]
     },
     "execution_count": 15,
     "metadata": {},
     "output_type": "execute_result"
    }
   ],
   "source": [
    "(\"processed/\" + speakers_datasets[speaker_id][\"audio_filepath\"]).progress_apply(lambda x: os.path.exists(x)).su"
   ]
  },
  {
   "cell_type": "code",
   "execution_count": 3,
   "metadata": {},
   "outputs": [],
   "source": [
    "speakers_datasets = {}\n",
    "for speaker_id in speaker_metadata.Speaker_ID:\n",
    "    wavs = ! find $speaker_id/ -type f -name *.wav\n",
    "    speakers_datasets[speaker_id] = pd.Series(wavs)"
   ]
  },
  {
   "cell_type": "code",
   "execution_count": 4,
   "metadata": {},
   "outputs": [
    {
     "name": "stdout",
     "output_type": "stream",
     "text": [
      "checked 17426 17426 17426 F1\n",
      "checked 12946 12946 12921 F2\n",
      "finded missing files F2\n",
      "checked 23696 23696 23696 F3\n",
      "checked 49250 49250 49250 M1\n",
      "checked 32903 32903 32903 M2\n"
     ]
    }
   ],
   "source": [
    "import os\n",
    "for speaker_id in speaker_metadata.Speaker_ID:\n",
    "    file_count = len(speakers_datasets[speaker_id])\n",
    "    checked_exists_audio = speakers_datasets[speaker_id].apply(lambda x: os.path.exists(x)).sum()\n",
    "    checked_exists_text = speakers_datasets[speaker_id].apply(lambda x: x.replace(\".wav\", \".txt\").replace(\"Audio\", \"Transcripts\")).apply(lambda x: os.path.exists(x)).sum()\n",
    "    print(\"checked {} {} {} {}\".format(file_count, checked_exists_audio, checked_exists_text, speaker_id))\n",
    "    if not (file_count == checked_exists_audio == checked_exists_text): print(\"finded missing files {}\".format(speaker_id))\n"
   ]
  },
  {
   "cell_type": "code",
   "execution_count": 5,
   "metadata": {},
   "outputs": [],
   "source": [
    "for speaker_id in speaker_metadata.Speaker_ID:\n",
    "    df = pd.DataFrame(speakers_datasets[speaker_id], columns=[\"audio_filepath\"])\n",
    "    df[\"txt_filepath\"] = df.audio_filepath.apply(lambda x: x.replace(\".wav\", \".txt\").replace(\"Audio\", \"Transcripts\"))\n",
    "    speakers_datasets[speaker_id] = df"
   ]
  },
  {
   "cell_type": "code",
   "execution_count": 6,
   "metadata": {},
   "outputs": [],
   "source": [
    "for speaker_id in speaker_metadata.Speaker_ID:\n",
    "    speakers_datasets[speaker_id][\"missing\"] = ~speakers_datasets[speaker_id].apply(lambda x: os.path.exists(x.audio_filepath) and os.path.exists(x.txt_filepath), axis=1)"
   ]
  },
  {
   "cell_type": "code",
   "execution_count": 9,
   "metadata": {},
   "outputs": [
    {
     "name": "stdout",
     "output_type": "stream",
     "text": [
      "0\n",
      "0\n",
      "0\n",
      "0\n",
      "0\n"
     ]
    }
   ],
   "source": [
    "for speaker_id in speaker_metadata.Speaker_ID:\n",
    "    print(speakers_datasets[speaker_id][\"missing\"].sum())\n",
    "    "
   ]
  },
  {
   "cell_type": "code",
   "execution_count": 10,
   "metadata": {},
   "outputs": [
    {
     "data": {
      "text/html": [
       "<div>\n",
       "<style scoped>\n",
       "    .dataframe tbody tr th:only-of-type {\n",
       "        vertical-align: middle;\n",
       "    }\n",
       "\n",
       "    .dataframe tbody tr th {\n",
       "        vertical-align: top;\n",
       "    }\n",
       "\n",
       "    .dataframe thead th {\n",
       "        text-align: right;\n",
       "    }\n",
       "</style>\n",
       "<table border=\"1\" class=\"dataframe\">\n",
       "  <thead>\n",
       "    <tr style=\"text-align: right;\">\n",
       "      <th></th>\n",
       "      <th>audio_filepath</th>\n",
       "      <th>txt_filepath</th>\n",
       "      <th>missing</th>\n",
       "    </tr>\n",
       "  </thead>\n",
       "  <tbody>\n",
       "    <tr>\n",
       "      <th>0</th>\n",
       "      <td>F1/Audio/inform_3356_11.wav</td>\n",
       "      <td>F1/Transcripts/inform_3356_11.txt</td>\n",
       "      <td>False</td>\n",
       "    </tr>\n",
       "    <tr>\n",
       "      <th>1</th>\n",
       "      <td>F1/Audio/inform_2803_08.wav</td>\n",
       "      <td>F1/Transcripts/inform_2803_08.txt</td>\n",
       "      <td>False</td>\n",
       "    </tr>\n",
       "    <tr>\n",
       "      <th>2</th>\n",
       "      <td>F1/Audio/inform_1163_032.wav</td>\n",
       "      <td>F1/Transcripts/inform_1163_032.txt</td>\n",
       "      <td>False</td>\n",
       "    </tr>\n",
       "    <tr>\n",
       "      <th>3</th>\n",
       "      <td>F1/Audio/inform_1960_022.wav</td>\n",
       "      <td>F1/Transcripts/inform_1960_022.txt</td>\n",
       "      <td>False</td>\n",
       "    </tr>\n",
       "    <tr>\n",
       "      <th>4</th>\n",
       "      <td>F1/Audio/inform_2022_07.wav</td>\n",
       "      <td>F1/Transcripts/inform_2022_07.txt</td>\n",
       "      <td>False</td>\n",
       "    </tr>\n",
       "    <tr>\n",
       "      <th>...</th>\n",
       "      <td>...</td>\n",
       "      <td>...</td>\n",
       "      <td>...</td>\n",
       "    </tr>\n",
       "    <tr>\n",
       "      <th>17421</th>\n",
       "      <td>F1/Audio/inform_805_04.wav</td>\n",
       "      <td>F1/Transcripts/inform_805_04.txt</td>\n",
       "      <td>False</td>\n",
       "    </tr>\n",
       "    <tr>\n",
       "      <th>17422</th>\n",
       "      <td>F1/Audio/inform_3407_12.wav</td>\n",
       "      <td>F1/Transcripts/inform_3407_12.txt</td>\n",
       "      <td>False</td>\n",
       "    </tr>\n",
       "    <tr>\n",
       "      <th>17423</th>\n",
       "      <td>F1/Audio/inform_800_02.wav</td>\n",
       "      <td>F1/Transcripts/inform_800_02.txt</td>\n",
       "      <td>False</td>\n",
       "    </tr>\n",
       "    <tr>\n",
       "      <th>17424</th>\n",
       "      <td>F1/Audio/inform_1129_01.wav</td>\n",
       "      <td>F1/Transcripts/inform_1129_01.txt</td>\n",
       "      <td>False</td>\n",
       "    </tr>\n",
       "    <tr>\n",
       "      <th>17425</th>\n",
       "      <td>F1/Audio/inform_1550_06.wav</td>\n",
       "      <td>F1/Transcripts/inform_1550_06.txt</td>\n",
       "      <td>False</td>\n",
       "    </tr>\n",
       "  </tbody>\n",
       "</table>\n",
       "<p>17426 rows × 3 columns</p>\n",
       "</div>"
      ],
      "text/plain": [
       "                     audio_filepath                        txt_filepath  \\\n",
       "0       F1/Audio/inform_3356_11.wav   F1/Transcripts/inform_3356_11.txt   \n",
       "1       F1/Audio/inform_2803_08.wav   F1/Transcripts/inform_2803_08.txt   \n",
       "2      F1/Audio/inform_1163_032.wav  F1/Transcripts/inform_1163_032.txt   \n",
       "3      F1/Audio/inform_1960_022.wav  F1/Transcripts/inform_1960_022.txt   \n",
       "4       F1/Audio/inform_2022_07.wav   F1/Transcripts/inform_2022_07.txt   \n",
       "...                             ...                                 ...   \n",
       "17421    F1/Audio/inform_805_04.wav    F1/Transcripts/inform_805_04.txt   \n",
       "17422   F1/Audio/inform_3407_12.wav   F1/Transcripts/inform_3407_12.txt   \n",
       "17423    F1/Audio/inform_800_02.wav    F1/Transcripts/inform_800_02.txt   \n",
       "17424   F1/Audio/inform_1129_01.wav   F1/Transcripts/inform_1129_01.txt   \n",
       "17425   F1/Audio/inform_1550_06.wav   F1/Transcripts/inform_1550_06.txt   \n",
       "\n",
       "       missing  \n",
       "0        False  \n",
       "1        False  \n",
       "2        False  \n",
       "3        False  \n",
       "4        False  \n",
       "...        ...  \n",
       "17421    False  \n",
       "17422    False  \n",
       "17423    False  \n",
       "17424    False  \n",
       "17425    False  \n",
       "\n",
       "[17426 rows x 3 columns]"
      ]
     },
     "execution_count": 10,
     "metadata": {},
     "output_type": "execute_result"
    }
   ],
   "source": [
    "speakers_datasets['F1']"
   ]
  },
  {
   "cell_type": "code",
   "execution_count": 11,
   "metadata": {},
   "outputs": [
    {
     "name": "stdout",
     "output_type": "stream",
     "text": [
      "F1 (17426, 3)\n",
      "F2 (12921, 3)\n",
      "F3 (23696, 3)\n",
      "M1 (49250, 3)\n",
      "M2 (32903, 3)\n"
     ]
    }
   ],
   "source": [
    "for speaker_id in speaker_metadata.Speaker_ID:\n",
    "    print(speaker_id, speakers_datasets[speaker_id].shape)"
   ]
  },
  {
   "cell_type": "code",
   "execution_count": 13,
   "metadata": {},
   "outputs": [],
   "source": [
    "df_missing.to_csv(\"metadata/F2_missing_files.csv\")"
   ]
  },
  {
   "cell_type": "code",
   "execution_count": 14,
   "metadata": {},
   "outputs": [],
   "source": [
    "stat_df = {}\n",
    "for speaker_id in speaker_metadata.Speaker_ID:\n",
    "    stat_df[speaker_id] = speakers_datasets[speaker_id].head()"
   ]
  },
  {
   "cell_type": "code",
   "execution_count": null,
   "metadata": {},
   "outputs": [],
   "source": []
  }
 ],
 "metadata": {
  "kernelspec": {
   "display_name": "vits2",
   "language": "python",
   "name": "python3"
  },
  "language_info": {
   "codemirror_mode": {
    "name": "ipython",
    "version": 3
   },
   "file_extension": ".py",
   "mimetype": "text/x-python",
   "name": "python",
   "nbconvert_exporter": "python",
   "pygments_lexer": "ipython3",
   "version": "3.11.9"
  }
 },
 "nbformat": 4,
 "nbformat_minor": 2
}
